{
 "cells": [
  {
   "cell_type": "code",
   "execution_count": 2,
   "id": "12b2b31f-94f1-4044-a515-db33743a7a50",
   "metadata": {},
   "outputs": [],
   "source": [
    "import numpy as np\n",
    "import matplotlib as plt "
   ]
  },
  {
   "cell_type": "code",
   "execution_count": 21,
   "id": "884f4626-a12d-424a-b691-339a3d3bed65",
   "metadata": {},
   "outputs": [],
   "source": [
    "class KNN():\n",
    "    def vote(self, k=5):\n",
    "        self.k = k\n",
    "\n",
    "    def vote(self, nums):\n",
    "        count =np.bincount(nums.astype('int'))\n",
    "        return count.argmax()\n",
    "\n",
    "    def predict(self, x_trin ,y_train, x_test):\n",
    "        y_preds= np.empty(x_test.shape[0])\n",
    "# idx is a array of dist values off knn values : )\n",
    "\n",
    "        for i , test_samp in enumerate(x_test):\n",
    "            idx =np.argsort([euclidean_distance(test_samp,x)]\n",
    "            knn= np.array(y_train[i] for i in idx)                \n",
    "                            \n",
    "                             "
   ]
  },
  {
   "cell_type": "code",
   "execution_count": 18,
   "id": "04629b72",
   "metadata": {},
   "outputs": [
    {
     "ename": "UnboundLocalError",
     "evalue": "cannot access local variable 'dis' where it is not associated with a value",
     "output_type": "error",
     "traceback": [
      "\u001b[0;31m---------------------------------------------------------------------------\u001b[0m",
      "\u001b[0;31mUnboundLocalError\u001b[0m                         Traceback (most recent call last)",
      "Cell \u001b[0;32mIn[18], line 7\u001b[0m\n\u001b[1;32m      5\u001b[0m     num \u001b[38;5;241m=\u001b[39m math\u001b[38;5;241m.\u001b[39msqrt(dis)\n\u001b[1;32m      6\u001b[0m     \u001b[38;5;28;01mreturn\u001b[39;00m num \n\u001b[0;32m----> 7\u001b[0m num \u001b[38;5;241m=\u001b[39m dist_calc(\u001b[38;5;241m7\u001b[39m,\u001b[38;5;241m8\u001b[39m) \n\u001b[1;32m      8\u001b[0m num\n",
      "Cell \u001b[0;32mIn[18], line 3\u001b[0m, in \u001b[0;36mdist_calc\u001b[0;34m(x1, x2)\u001b[0m\n\u001b[1;32m      1\u001b[0m \u001b[38;5;28;01mdef\u001b[39;00m \u001b[38;5;21mdist_calc\u001b[39m(x1, x2):\n\u001b[1;32m      2\u001b[0m     dist \u001b[38;5;241m=\u001b[39m \u001b[38;5;241m0\u001b[39m\n\u001b[0;32m----> 3\u001b[0m     dis\u001b[38;5;241m+\u001b[39m\u001b[38;5;241m=\u001b[39m np\u001b[38;5;241m.\u001b[39mpow(x1[x]\u001b[38;5;241m-\u001b[39mx2[x],\u001b[38;5;241m2\u001b[39m)\n\u001b[1;32m      5\u001b[0m     num \u001b[38;5;241m=\u001b[39m math\u001b[38;5;241m.\u001b[39msqrt(dis)\n\u001b[1;32m      6\u001b[0m     \u001b[38;5;28;01mreturn\u001b[39;00m num\n",
      "\u001b[0;31mUnboundLocalError\u001b[0m: cannot access local variable 'dis' where it is not associated with a value"
     ]
    }
   ],
   "source": [
    "\n",
    "def euclidean_distance(x1, x2):\n",
    "    distance = 0\n",
    "    for i in range(len(x1)):\n",
    "        distance += pow((x1[i] - x2[i]), 2)\n",
    "    return math.sqrt(distance)\n",
    "        "
   ]
  },
  {
   "cell_type": "code",
   "execution_count": null,
   "id": "8c9cb81f-98d4-4c51-8608-450525d1bd11",
   "metadata": {},
   "outputs": [],
   "source": []
  }
 ],
 "metadata": {
  "kernelspec": {
   "display_name": "Python 3 (ipykernel)",
   "language": "python",
   "name": "python3"
  },
  "language_info": {
   "codemirror_mode": {
    "name": "ipython",
    "version": 3
   },
   "file_extension": ".py",
   "mimetype": "text/x-python",
   "name": "python",
   "nbconvert_exporter": "python",
   "pygments_lexer": "ipython3",
   "version": "3.12.4"
  }
 },
 "nbformat": 4,
 "nbformat_minor": 5
}
