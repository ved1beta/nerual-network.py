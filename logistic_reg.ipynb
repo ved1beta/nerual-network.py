{
 "cells": [
  {
   "cell_type": "code",
   "execution_count": 1,
   "metadata": {},
   "outputs": [],
   "source": [
    "import torch\n",
    "import matplotlib as plt\n",
    "import numpy as np\n"
   ]
  },
  {
   "cell_type": "code",
   "execution_count": 2,
   "metadata": {},
   "outputs": [],
   "source": [
    "num =torch.tensor([1, 2, 3]) "
   ]
  },
  {
   "cell_type": "code",
   "execution_count": 7,
   "metadata": {},
   "outputs": [],
   "source": [
    "def logistic_regression(x_train , y_train , weights, lr=0.01 , num_iter=1000 , ):\n",
    "    x_train= np.column_stack((np.ones(len(x_train)), x_train ))\n",
    "    nrow, ncol =x_train.shape\n",
    "    n_classes = len(np.unique(y_train))\n",
    "    \n",
    "    for i in range(num_iter):\n",
    "        output = np.exp(np.matmul(x_train,weights))\n",
    "        softmax  = output/np.sum(output, axis=1, keepdims=True)\n",
    "\n",
    "        softmax = [range(len(x_train)),y_train] =-1\n",
    "        grad = np.matmul(x_train.T, softmax/nrow)\n",
    "\n",
    "        weights = lr* grad\n",
    "        return weights    "
   ]
  },
  {
   "cell_type": "code",
   "execution_count": null,
   "metadata": {},
   "outputs": [],
   "source": []
  }
 ],
 "metadata": {
  "kernelspec": {
   "display_name": "Python 3 (ipykernel)",
   "language": "python",
   "name": "python3"
  },
  "language_info": {
   "codemirror_mode": {
    "name": "ipython",
    "version": 3
   },
   "file_extension": ".py",
   "mimetype": "text/x-python",
   "name": "python",
   "nbconvert_exporter": "python",
   "pygments_lexer": "ipython3",
   "version": "3.12.4"
  }
 },
 "nbformat": 4,
 "nbformat_minor": 2
}
