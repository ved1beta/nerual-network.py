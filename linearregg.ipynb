{
 "cells": [
  {
   "cell_type": "code",
   "execution_count": 5,
   "metadata": {},
   "outputs": [],
   "source": [
    "import pandas as pd\n",
    "\n",
    "import numpy as np \n",
    "\n"
   ]
  },
  {
   "cell_type": "code",
   "execution_count": 1,
   "metadata": {},
   "outputs": [
    {
     "name": "stdout",
     "output_type": "stream",
     "text": [
      "1.5.0\n"
     ]
    }
   ],
   "source": [
    "class LinearRegg:\n",
    "    def __init__(self, lr=0.0011, n_iter=1000):\n",
    "        self.lr=lr\n",
    "        self.n_iter=n_iter\n",
    "        self.weights=None\n",
    "        self.bias=None\n",
    "\n",
    "        def fit(self, x ,y):\n",
    "            n_samples,n_features =x.shape\n",
    "            self.weights=np.zeroes(n_features)\n",
    "            self.bias=0\n",
    "\n",
    "            for _ in range(self.n_iter):\n",
    "\n",
    "                y_pred =np.dot(x,self.weights)+self.bias\n",
    "\n",
    "                dw=(1/n_samples)*np.dot(x.T,(y_pred-y))\n",
    "                db=(1/n_samples)*np.sum(x,(y_pred-y))\n",
    "\n",
    "                self.weights =self.weights -self.lr*dw\n",
    "                self.bias =self.bias -self.lr*db\n",
    "\n",
    "        def predict(self,x):\n",
    "            y_pred =np.dot(x,self.weights)+self.bias\n",
    "            return y_pred\n",
    "\n",
    "        \n"
   ]
  }
 ],
 "metadata": {
  "kernelspec": {
   "display_name": ".venv",
   "language": "python",
   "name": "python3"
  },
  "language_info": {
   "codemirror_mode": {
    "name": "ipython",
    "version": 3
   },
   "file_extension": ".py",
   "mimetype": "text/x-python",
   "name": "python",
   "nbconvert_exporter": "python",
   "pygments_lexer": "ipython3",
   "version": "3.10.12"
  }
 },
 "nbformat": 4,
 "nbformat_minor": 2
}
